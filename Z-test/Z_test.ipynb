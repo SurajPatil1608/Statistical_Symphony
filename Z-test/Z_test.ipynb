{
  "cells": [
    {
      "cell_type": "code",
      "execution_count": 1,
      "metadata": {
        "id": "F5U4iciYJqbz"
      },
      "outputs": [],
      "source": [
        "import scipy.stats as stats\n",
        "from math import sqrt\n",
        "import scipy.stats"
      ]
    },
    {
      "cell_type": "code",
      "source": [
        "def one_Sample_z_Test(x_bar,mu,sigma,n):\n",
        "    Z_Value = (x_bar - mu)/(sigma/sqrt(n))\n",
        "    P_value = scipy.stats.norm.sf(abs(Z_Value))*2\n",
        "    return(print(\"Z_value =\",Z_Value,\",\",\"P-_Value = \",P_value))"
      ],
      "metadata": {
        "id": "-TCroLMz5qE4"
      },
      "execution_count": 2,
      "outputs": []
    },
    {
      "cell_type": "markdown",
      "metadata": {
        "id": "7oVav8eDJqcG"
      },
      "source": [
        "#### Example 1"
      ]
    },
    {
      "cell_type": "markdown",
      "metadata": {
        "id": "eEFSHPDaJqcI"
      },
      "source": [
        "A company manufacturing tube light claims that average life of the tube light is 1800 hrs. The average life and Standard Deviation of random sample of 100 tube light were 1860 hrs. & 140hrs, thus the data supports the company’s claim"
      ]
    },
    {
      "cell_type": "markdown",
      "metadata": {
        "id": "jWoARthnJqcJ"
      },
      "source": [
        "* H_0: There is no significant difference between Sample mean and Company claim (μ_1-μ_2=0).\n",
        "* H_1: There is significant difference between Sample mean and Company claim (μ_1-μ_2=0).\n",
        "* Alpha = 0.05\n"
      ]
    },
    {
      "cell_type": "code",
      "execution_count": 3,
      "metadata": {
        "id": "GsJ-OqNNJqcK",
        "outputId": "8d09cb57-590b-40d3-c848-c24d5de58daf",
        "colab": {
          "base_uri": "https://localhost:8080/"
        }
      },
      "outputs": [
        {
          "output_type": "stream",
          "name": "stdout",
          "text": [
            "Z_value = 4.285714285714286 , P-_Value =  1.821529714896801e-05\n"
          ]
        }
      ],
      "source": [
        "one_Sample_z_Test(1860,1800,140,100)"
      ]
    },
    {
      "cell_type": "markdown",
      "metadata": {
        "id": "8i8OUr5RJqcL"
      },
      "source": [
        "# Conclusion\n",
        "* We Reject Ho\n",
        "* There is significant difference between Sample mean and Company claim (μ_1-μ_2=0)."
      ]
    },
    {
      "cell_type": "markdown",
      "metadata": {
        "id": "hD-hIwNLJqb6"
      },
      "source": [
        "#### Example 2"
      ]
    },
    {
      "cell_type": "markdown",
      "metadata": {
        "id": "nq99lyQEJqb-"
      },
      "source": [
        "A sample  of 1000 college student from Mumbai was taken & their average weight was found to be 112 lbs. If the Standard Deviation of the weight of all student from Mumbai is 20 lbs. Can the mean weight of student in Mumbai be 120? Use 5% LOS."
      ]
    },
    {
      "cell_type": "markdown",
      "metadata": {
        "id": "XtfqM11vJqcB"
      },
      "source": [
        "* H_0: There is no significant difference between Sample mean and weight of mumbai student (μ_1-μ_2=0).\n",
        "* H_1: There is significant difference between Sample mean and weight of mumbai student (μ_1-μ_2=0).\n",
        "* Alpha = 0.05\n"
      ]
    },
    {
      "cell_type": "code",
      "execution_count": 4,
      "metadata": {
        "id": "eWw0IWP7JqcD",
        "outputId": "511f72ce-c756-41cb-bd78-6785a33a0598",
        "colab": {
          "base_uri": "https://localhost:8080/"
        }
      },
      "outputs": [
        {
          "output_type": "stream",
          "name": "stdout",
          "text": [
            "Z_value = -12.649110640673516 , P-_Value =  1.1314837902432825e-36\n"
          ]
        }
      ],
      "source": [
        "one_Sample_z_Test(112,120,20,1000)"
      ]
    },
    {
      "cell_type": "markdown",
      "metadata": {
        "id": "_xGakpwGJqcF"
      },
      "source": [
        "# Conclusion\n",
        "* We Reject Ho\n",
        "* There is significant difference between Sample mean and weight of mumbai student (μ_1-μ_2=0)."
      ]
    },
    {
      "cell_type": "markdown",
      "metadata": {
        "id": "q1Ef9QqjJqcL"
      },
      "source": [
        "# Two Sample Z-test"
      ]
    },
    {
      "cell_type": "markdown",
      "metadata": {
        "id": "84WXRupQJqcM"
      },
      "source": [
        "#### Example 1"
      ]
    },
    {
      "cell_type": "markdown",
      "metadata": {
        "id": "yDnQAx0vJqcM"
      },
      "source": [
        "A examination was given to two sample of student of two classes consisting 40 & 50 students respectively. In the first class, the mean marks were 74 & standard deviation is 8. In the 2nd class, the mean mark was 78 and standard deviation is 7. In there a significant difference between the performance of two classes at 5% level of significant"
      ]
    },
    {
      "cell_type": "markdown",
      "metadata": {
        "id": "Z8VXsabmJqcN"
      },
      "source": [
        "* H_0: There is no significant difference between performance of two classes (μ_1-μ_2=0).\n",
        "* H_1: There is significant difference between performance of two classes (μ_1-μ_2≠0).\n",
        "* Alpha = 0.05\n"
      ]
    },
    {
      "cell_type": "code",
      "execution_count": 5,
      "metadata": {
        "id": "N9sRPH_zJqcN",
        "outputId": "3e7299e7-5b02-4309-ab7c-e749ab017aed",
        "scrolled": true,
        "colab": {
          "base_uri": "https://localhost:8080/"
        }
      },
      "outputs": [
        {
          "output_type": "execute_result",
          "data": {
            "text/plain": [
              "1.606237840420901"
            ]
          },
          "metadata": {},
          "execution_count": 5
        }
      ],
      "source": [
        "import numpy as np\n",
        "np.sqrt((64/40)+(49/50))"
      ]
    },
    {
      "cell_type": "code",
      "execution_count": 6,
      "metadata": {
        "id": "AYg-1lstJqcO",
        "outputId": "ad5efb77-db1f-4a72-e34d-011ba5cf325f",
        "colab": {
          "base_uri": "https://localhost:8080/"
        }
      },
      "outputs": [
        {
          "output_type": "execute_result",
          "data": {
            "text/plain": [
              "(2.5, 0.012419330651552265)"
            ]
          },
          "metadata": {},
          "execution_count": 6
        }
      ],
      "source": [
        "from statsmodels.stats import weightstats as stests\n",
        "\n",
        "#test\n",
        "stests._zstat_generic(78,74,1.6,alternative='two-sided',diff=0)"
      ]
    },
    {
      "cell_type": "markdown",
      "metadata": {
        "id": "kAKbhy3UJqcP"
      },
      "source": [
        "# Conclusion\n",
        "* We Reject Ho\n",
        "* There is significant difference between performance of two classes (μ_1-μ_2≠0).\n"
      ]
    },
    {
      "cell_type": "markdown",
      "metadata": {
        "id": "7tB5ykpHJqcP"
      },
      "source": [
        "#### Example 2"
      ]
    },
    {
      "cell_type": "markdown",
      "metadata": {
        "id": "LqOsEeymJqcR"
      },
      "source": [
        "The mean yield from district A was 210 kg’s with Standard Deviation of 10 kg per acre. From a sample of 100 plots. In another district B, the mean yield was 220 kg’s with Standard Deviation of 12 kgs. From a sample of 150 plots. Test whether the mean yield of crop from district A is less than district B."
      ]
    },
    {
      "cell_type": "markdown",
      "metadata": {
        "id": "p9alnqaGJqcS"
      },
      "source": [
        "* H_0: There is no significant difference between District A & B with repect to Yield (μ_1-μ_2=0).\n",
        "* H_1: There is significant difference between District A & B with repect to Yield (μ_1< μ_2).\n",
        "* Alpha = 0.05\n",
        "* One Sided"
      ]
    },
    {
      "cell_type": "code",
      "execution_count": 7,
      "metadata": {
        "id": "ysvsT3jXJqcT",
        "outputId": "fc645916-2a19-4b7f-c88a-38e8c06a590e",
        "colab": {
          "base_uri": "https://localhost:8080/"
        }
      },
      "outputs": [
        {
          "output_type": "execute_result",
          "data": {
            "text/plain": [
              "1.4"
            ]
          },
          "metadata": {},
          "execution_count": 7
        }
      ],
      "source": [
        "import numpy as np\n",
        "np.sqrt((100/100)+(144/150))"
      ]
    },
    {
      "cell_type": "code",
      "execution_count": 8,
      "metadata": {
        "id": "AZ6ZX2WzJqcU",
        "outputId": "c4c83fa8-354c-4578-839e-4841c055121c",
        "colab": {
          "base_uri": "https://localhost:8080/"
        }
      },
      "outputs": [
        {
          "output_type": "execute_result",
          "data": {
            "text/plain": [
              "(7.142857142857143, 4.570530827193354e-13)"
            ]
          },
          "metadata": {},
          "execution_count": 8
        }
      ],
      "source": [
        "from statsmodels.stats import weightstats as stests\n",
        "\n",
        "#test\n",
        "stests._zstat_generic(220,210,1.4,alternative='larger',diff=0)"
      ]
    },
    {
      "cell_type": "markdown",
      "metadata": {
        "id": "n4T5X_04JqcU"
      },
      "source": [
        "# Conclusion\n",
        "* We Reject Ho\n",
        "* There is significant difference between District A & B with repect to Yield (μ_1< μ_2).\n"
      ]
    }
  ],
  "metadata": {
    "colab": {
      "provenance": []
    },
    "kernelspec": {
      "display_name": "Python 3",
      "language": "python",
      "name": "python3"
    },
    "language_info": {
      "codemirror_mode": {
        "name": "ipython",
        "version": 3
      },
      "file_extension": ".py",
      "mimetype": "text/x-python",
      "name": "python",
      "nbconvert_exporter": "python",
      "pygments_lexer": "ipython3",
      "version": "3.8.5"
    }
  },
  "nbformat": 4,
  "nbformat_minor": 0
}