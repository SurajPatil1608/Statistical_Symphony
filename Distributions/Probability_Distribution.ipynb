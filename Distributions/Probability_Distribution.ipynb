{
  "cells": [
    {
      "cell_type": "code",
      "execution_count": 1,
      "metadata": {
        "id": "3_fuC2JFT-bE"
      },
      "outputs": [],
      "source": [
        "from scipy.stats import binom,poisson,nbinom,norm,uniform\n",
        "import matplotlib.pyplot as plt\n",
        "import pandas as pd\n",
        "import numpy as np"
      ]
    },
    {
      "cell_type": "markdown",
      "metadata": {
        "id": "B801wE2GT-bP"
      },
      "source": [
        "# Binomial Distribution"
      ]
    },
    {
      "cell_type": "markdown",
      "metadata": {
        "id": "xlWFEDDJT-bU"
      },
      "source": [
        "### Example 2\n",
        "Hospital Record show that of patient from a certain Disease 75% die of it\n",
        "What is the probability that of 6 randomly selected patients, 4 will recover?\n",
        "\n"
      ]
    },
    {
      "cell_type": "code",
      "execution_count": 2,
      "metadata": {
        "id": "IxiDi1NhT-bW",
        "outputId": "3bed8dff-4615-49ce-d289-3b9e477be42f",
        "colab": {
          "base_uri": "https://localhost:8080/"
        }
      },
      "outputs": [
        {
          "output_type": "execute_result",
          "data": {
            "text/plain": [
              "0.03295898437499997"
            ]
          },
          "metadata": {},
          "execution_count": 2
        }
      ],
      "source": [
        "binom.pmf(4,6,0.25)  # p= 0.25 , q= 0.75 , n = 6 , x= 4"
      ]
    },
    {
      "cell_type": "markdown",
      "metadata": {
        "id": "qwOnVqvero6t"
      },
      "source": [
        "#### Mean & Variance"
      ]
    },
    {
      "cell_type": "code",
      "execution_count": 3,
      "metadata": {
        "colab": {
          "base_uri": "https://localhost:8080/"
        },
        "id": "Hn3SFGklro6u",
        "outputId": "27d0656f-f46d-4305-e415-ede9c9998589"
      },
      "outputs": [
        {
          "output_type": "stream",
          "name": "stdout",
          "text": [
            "Mean of Binomial: 1.5\n",
            "variance of Binomial: 1.125\n"
          ]
        }
      ],
      "source": [
        "n = 6\n",
        "p = 0.25\n",
        "q = 1-p\n",
        "mean = n*p\n",
        "variance = n*p*q\n",
        "print('Mean of Binomial:',mean)\n",
        "print('variance of Binomial:',variance)"
      ]
    },
    {
      "cell_type": "markdown",
      "metadata": {
        "id": "Rkzy72T8T-bb"
      },
      "source": [
        "### Example 2\n",
        "A manufacturer of metal pistons finds that on the average, 12% of his pistons are Success\n",
        "because they are either oversize or undersize.\n",
        "\n",
        "What is the probability that a batch of 10 pistons will contain\n",
        "\n",
        "* no more than 2 rejects?\n",
        "\n",
        "* at least 2 rejects?\n"
      ]
    },
    {
      "cell_type": "markdown",
      "metadata": {
        "id": "XwkDmGtnT-be"
      },
      "source": [
        "* n = 10 , p=0.12 , x=0,1,2"
      ]
    },
    {
      "cell_type": "code",
      "execution_count": 4,
      "metadata": {
        "id": "e_TQo2dwT-bh",
        "outputId": "df368bc5-b652-4911-927d-60100f659f6f",
        "colab": {
          "base_uri": "https://localhost:8080/"
        }
      },
      "outputs": [
        {
          "output_type": "execute_result",
          "data": {
            "text/plain": [
              "0.8913182062780245"
            ]
          },
          "metadata": {},
          "execution_count": 4
        }
      ],
      "source": [
        "binom.pmf(0,10,0.12)+binom.pmf(1,10,0.12)+binom.pmf(2,10,0.12)"
      ]
    },
    {
      "cell_type": "code",
      "execution_count": 5,
      "metadata": {
        "id": "JKowglcvT-bn",
        "outputId": "51839d4b-e730-4e9d-c803-8f4b52d270e4",
        "scrolled": true,
        "colab": {
          "base_uri": "https://localhost:8080/"
        }
      },
      "outputs": [
        {
          "output_type": "execute_result",
          "data": {
            "text/plain": [
              "0.8913182062780246"
            ]
          },
          "metadata": {},
          "execution_count": 5
        }
      ],
      "source": [
        "binom.cdf(2,10,0.12)"
      ]
    },
    {
      "cell_type": "code",
      "execution_count": 6,
      "metadata": {
        "id": "hAW2Q6QOT-bq",
        "outputId": "5f086c9d-d143-4a4f-a238-1c5d2cd4e514",
        "colab": {
          "base_uri": "https://localhost:8080/"
        }
      },
      "outputs": [
        {
          "output_type": "execute_result",
          "data": {
            "text/plain": [
              "0.3417249657959587"
            ]
          },
          "metadata": {},
          "execution_count": 6
        }
      ],
      "source": [
        "1-binom.cdf(1,10,0.12)"
      ]
    },
    {
      "cell_type": "markdown",
      "metadata": {
        "id": "JubYseb3T-bs"
      },
      "source": [
        "# poisson Distribution"
      ]
    },
    {
      "cell_type": "markdown",
      "metadata": {
        "id": "u_u2StcPT-bt"
      },
      "source": [
        "### Example 1\n",
        "\n",
        "* Suppose P is the no. of car per minute passing through a certain road junction between 4 to 5 pm and p has poison distribution with mean 3.\n",
        "\n",
        "* What is probability of observing less than 3 cars during any given minute in this internal?"
      ]
    },
    {
      "cell_type": "code",
      "execution_count": 7,
      "metadata": {
        "id": "4vS7V-k7T-bv",
        "outputId": "fc857ba3-4b29-4372-edb9-f368b07dfee1",
        "colab": {
          "base_uri": "https://localhost:8080/"
        }
      },
      "outputs": [
        {
          "output_type": "execute_result",
          "data": {
            "text/plain": [
              "0.42319008112684353"
            ]
          },
          "metadata": {},
          "execution_count": 7
        }
      ],
      "source": [
        "poisson.pmf(0,3)+poisson.pmf(1,3)+poisson.pmf(2,3)  # lambda = 3  x = 0 , 1 , 2 < 3"
      ]
    },
    {
      "cell_type": "code",
      "execution_count": 8,
      "metadata": {
        "id": "mI2sAhSbT-bv",
        "outputId": "cb828cb6-1343-4d93-ad9a-359288054639",
        "colab": {
          "base_uri": "https://localhost:8080/"
        }
      },
      "outputs": [
        {
          "output_type": "execute_result",
          "data": {
            "text/plain": [
              "0.42319008112684364"
            ]
          },
          "metadata": {},
          "execution_count": 8
        }
      ],
      "source": [
        "poisson.cdf(2,3)  # lambda = 3  x = 0 , 1 , 2 < 3"
      ]
    },
    {
      "cell_type": "markdown",
      "metadata": {
        "id": "L8Tp4byHro6z"
      },
      "source": [
        "#### Mean & Variance  "
      ]
    },
    {
      "cell_type": "code",
      "execution_count": 9,
      "metadata": {
        "colab": {
          "base_uri": "https://localhost:8080/"
        },
        "id": "iwjtf96xro60",
        "outputId": "63db55b5-2441-46fa-d253-37a3e7fca835"
      },
      "outputs": [
        {
          "output_type": "stream",
          "name": "stdout",
          "text": [
            "Mean of Poisson: 3\n",
            "variance of Poisson: 3\n"
          ]
        }
      ],
      "source": [
        "x = 3\n",
        "mean = x\n",
        "variance = x\n",
        "print('Mean of Poisson:',mean)\n",
        "print('variance of Poisson:',variance)"
      ]
    },
    {
      "cell_type": "markdown",
      "metadata": {
        "id": "Jfb2CdDMT-bw"
      },
      "source": [
        "### Example 2\n",
        "\n",
        "* A traffic office imposes on an average 5 no. of penalties daily on the traffic volunteers.\n",
        "* Assuming that the no of penalties on different day is independent & follow a Poisson distribution.\n",
        "* Find the prob. that there will less than 4 penalties in a day."
      ]
    },
    {
      "cell_type": "code",
      "execution_count": 10,
      "metadata": {
        "id": "KrLkSi7TT-bx",
        "outputId": "88fbbc23-8eaf-4907-b86c-e07548aca7c0",
        "colab": {
          "base_uri": "https://localhost:8080/"
        }
      },
      "outputs": [
        {
          "output_type": "execute_result",
          "data": {
            "text/plain": [
              "0.2650259152973616"
            ]
          },
          "metadata": {},
          "execution_count": 10
        }
      ],
      "source": [
        " poisson.cdf(3,5) # lambda = 5   x = 0,1,2,3"
      ]
    },
    {
      "cell_type": "markdown",
      "metadata": {
        "id": "_y5ekXQqT-by"
      },
      "source": [
        "# Geometric Distribution"
      ]
    },
    {
      "cell_type": "markdown",
      "metadata": {
        "id": "QKCAmdRQT-by"
      },
      "source": [
        "### Example 1\n",
        "\n",
        "A European roulette has 18 red slot, 18 black slot & 1 green slot. It is reasonable to assume that the ball is equally likely to land in any of the 37 slot. What Is the probability that the 1st time the ball lands a red slot occurs on the 5th spin?"
      ]
    },
    {
      "cell_type": "code",
      "execution_count": 11,
      "metadata": {
        "id": "t0maL18cT-b0",
        "outputId": "943e4caa-8da9-4b8e-c332-e23c823c60c0",
        "colab": {
          "base_uri": "https://localhost:8080/"
        }
      },
      "outputs": [
        {
          "output_type": "execute_result",
          "data": {
            "text/plain": [
              "0.03382815318716237"
            ]
          },
          "metadata": {},
          "execution_count": 11
        }
      ],
      "source": [
        "nbinom.pmf(k=4, n=1, p=18/37)"
      ]
    },
    {
      "cell_type": "markdown",
      "metadata": {
        "id": "9GC_LzfET-b0"
      },
      "source": [
        "### Example 2\n",
        "* In a large population of adult, 30% have received CPR training.\n",
        "* It adult from this population are selected randomly, what is the probability that the 6th person sampled is the 1st that has received CPR training?"
      ]
    },
    {
      "cell_type": "code",
      "execution_count": 12,
      "metadata": {
        "id": "1OX2euu9T-b1",
        "outputId": "93742139-4d9e-4470-eff7-0ab0ad286324",
        "colab": {
          "base_uri": "https://localhost:8080/"
        }
      },
      "outputs": [
        {
          "output_type": "execute_result",
          "data": {
            "text/plain": [
              "0.050421"
            ]
          },
          "metadata": {},
          "execution_count": 12
        }
      ],
      "source": [
        "nbinom.pmf(k=5, n=1, p=0.3)"
      ]
    },
    {
      "cell_type": "markdown",
      "metadata": {
        "id": "9UzMpXfUT-b3"
      },
      "source": [
        "# Uniform Distribution"
      ]
    },
    {
      "cell_type": "code",
      "execution_count": 13,
      "metadata": {
        "id": "BOSvVylGT-b3"
      },
      "outputs": [],
      "source": [
        "def uniform(a,b):\n",
        "    mean=(b+a)/2\n",
        "    variance = ((b-a)**2)/12\n",
        "    return mean,variance"
      ]
    },
    {
      "cell_type": "code",
      "execution_count": 14,
      "metadata": {
        "id": "fGmUbgEWT-b5",
        "outputId": "62b7fc20-cd05-4de9-d0e9-c7f8e0648bcf",
        "colab": {
          "base_uri": "https://localhost:8080/"
        }
      },
      "outputs": [
        {
          "output_type": "execute_result",
          "data": {
            "text/plain": [
              "(7.5, 2.0833333333333335)"
            ]
          },
          "metadata": {},
          "execution_count": 14
        }
      ],
      "source": [
        "uniform(5,10) # a =5 , b= 10"
      ]
    },
    {
      "cell_type": "code",
      "execution_count": 16,
      "metadata": {
        "id": "VElHy_jbT-b6",
        "outputId": "cb4d4c9c-92ae-4051-cacb-06da693da2de",
        "colab": {
          "base_uri": "https://localhost:8080/"
        }
      },
      "outputs": [
        {
          "output_type": "execute_result",
          "data": {
            "text/plain": [
              "0.4"
            ]
          },
          "metadata": {},
          "execution_count": 16
        }
      ],
      "source": [
        "from scipy.stats import uniform\n",
        "uniform.cdf(11,5,15)"
      ]
    },
    {
      "cell_type": "code",
      "execution_count": 17,
      "metadata": {
        "id": "egH-uV2nT-b7",
        "outputId": "66539cbe-c4e7-4bb6-aa5e-9fcc179e417a",
        "colab": {
          "base_uri": "https://localhost:8080/"
        }
      },
      "outputs": [
        {
          "output_type": "execute_result",
          "data": {
            "text/plain": [
              "0.8"
            ]
          },
          "metadata": {},
          "execution_count": 17
        }
      ],
      "source": [
        "from scipy.stats import uniform\n",
        "1-uniform.cdf(8,5,15)"
      ]
    },
    {
      "cell_type": "code",
      "execution_count": 18,
      "metadata": {
        "id": "yhwQnxznT-b8",
        "outputId": "78e20fdc-172c-4afe-b92f-dcb35df0d3ca",
        "colab": {
          "base_uri": "https://localhost:8080/"
        }
      },
      "outputs": [
        {
          "output_type": "execute_result",
          "data": {
            "text/plain": [
              "0.2666666666666667"
            ]
          },
          "metadata": {},
          "execution_count": 18
        }
      ],
      "source": [
        "(1-uniform.cdf(8,5,15))-(1-uniform.cdf(12,5,15))"
      ]
    },
    {
      "cell_type": "markdown",
      "metadata": {
        "id": "_AeHlWH0T-cB"
      },
      "source": [
        "# Normal Distribution"
      ]
    },
    {
      "cell_type": "markdown",
      "metadata": {
        "id": "zwwxYXGsT-cD"
      },
      "source": [
        "#### Example 1"
      ]
    },
    {
      "cell_type": "markdown",
      "metadata": {
        "id": "n7MFrkCXT-cE"
      },
      "source": [
        "* The height of student in xyz College Follows normal distribution with\n",
        "* mean height of 155 cms & Standard deviation of height as 5 cm.\n",
        "    1.\tFind the chance that the height of randomly chosen student from the college exceed 158 cms.\n",
        "    2.\tThe percentage of student with height less than 150 cms.\n"
      ]
    },
    {
      "cell_type": "code",
      "execution_count": 19,
      "metadata": {
        "id": "Y9Iq3djBT-cF",
        "scrolled": true,
        "colab": {
          "base_uri": "https://localhost:8080/"
        },
        "outputId": "712fca28-a4fd-4da3-c0d3-1ec39165dd4a"
      },
      "outputs": [
        {
          "output_type": "execute_result",
          "data": {
            "text/plain": [
              "0.27425311775007355"
            ]
          },
          "metadata": {},
          "execution_count": 19
        }
      ],
      "source": [
        "#1\n",
        "1-norm.cdf(158,loc=155, scale=5)  # X> 158"
      ]
    },
    {
      "cell_type": "code",
      "execution_count": 20,
      "metadata": {
        "id": "I52KQvKMT-cG",
        "colab": {
          "base_uri": "https://localhost:8080/"
        },
        "outputId": "1dd23d86-37a1-43e9-daf4-daef2db15ed0"
      },
      "outputs": [
        {
          "output_type": "execute_result",
          "data": {
            "text/plain": [
              "0.15865525393145707"
            ]
          },
          "metadata": {},
          "execution_count": 20
        }
      ],
      "source": [
        "#2.\n",
        "norm.cdf(150,loc=155, scale=5)  # X < 150"
      ]
    },
    {
      "cell_type": "code",
      "execution_count": 21,
      "metadata": {
        "id": "xlTt-sTpU3zi",
        "colab": {
          "base_uri": "https://localhost:8080/"
        },
        "outputId": "df60cfdc-af5e-4b56-cfb0-5a8b23cb47c7"
      },
      "outputs": [
        {
          "output_type": "execute_result",
          "data": {
            "text/plain": [
              "0.04839414490382867"
            ]
          },
          "metadata": {},
          "execution_count": 21
        }
      ],
      "source": [
        "#3.\n",
        "norm.pdf(150,loc=155, scale=5)  # X = 150"
      ]
    },
    {
      "cell_type": "markdown",
      "metadata": {
        "id": "fqM5kVobT-cH"
      },
      "source": [
        "#### Example 2"
      ]
    },
    {
      "cell_type": "markdown",
      "metadata": {
        "id": "wyhN-gqzT-cH"
      },
      "source": [
        "* A company has 500 employees, salary of whom is normally distributed\n",
        "* with an average salary Rs 40000 and standard deviation of Rs 6000 .\n",
        "* Suppose you pick a random employee from the 500 employees,\n",
        "* what is probability that he or she will earn less than Rs 30000\n"
      ]
    },
    {
      "cell_type": "code",
      "execution_count": 22,
      "metadata": {
        "id": "G56zGeX3T-cI",
        "scrolled": true,
        "colab": {
          "base_uri": "https://localhost:8080/"
        },
        "outputId": "d6743ed0-3981-4376-d3c7-1773dfa2e7a6"
      },
      "outputs": [
        {
          "output_type": "execute_result",
          "data": {
            "text/plain": [
              "0.0477903522728147"
            ]
          },
          "metadata": {},
          "execution_count": 22
        }
      ],
      "source": [
        "#1.\n",
        "norm.cdf(30000,loc=40000, scale=6000)"
      ]
    },
    {
      "cell_type": "markdown",
      "metadata": {
        "id": "sb1AItHUT-cJ"
      },
      "source": [
        "#### Example 3"
      ]
    },
    {
      "cell_type": "markdown",
      "metadata": {
        "id": "M1mmSpFYT-cK"
      },
      "source": [
        "The Average Score of Virat is 53 & standard deviation is 40\n",
        "assume run scores by kohli is normally distribution find the probabilities of\n",
        "kohli hitting more than 100 run in next inning"
      ]
    },
    {
      "cell_type": "code",
      "execution_count": 23,
      "metadata": {
        "id": "f_wXfCN-T-cM",
        "colab": {
          "base_uri": "https://localhost:8080/"
        },
        "outputId": "1c246eec-f135-4a75-95a4-99c4243b8f53"
      },
      "outputs": [
        {
          "output_type": "execute_result",
          "data": {
            "text/plain": [
              "0.11999735789901245"
            ]
          },
          "metadata": {},
          "execution_count": 23
        }
      ],
      "source": [
        "#1.\n",
        "1-norm.cdf(100,loc=53, scale=40)"
      ]
    }
  ],
  "metadata": {
    "colab": {
      "provenance": []
    },
    "kernelspec": {
      "display_name": "Python 3",
      "language": "python",
      "name": "python3"
    },
    "language_info": {
      "codemirror_mode": {
        "name": "ipython",
        "version": 3
      },
      "file_extension": ".py",
      "mimetype": "text/x-python",
      "name": "python",
      "nbconvert_exporter": "python",
      "pygments_lexer": "ipython3",
      "version": "3.8.5"
    }
  },
  "nbformat": 4,
  "nbformat_minor": 0
}