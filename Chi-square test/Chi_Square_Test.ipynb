{
  "cells": [
    {
      "cell_type": "markdown",
      "metadata": {
        "id": "3RLoncsU8g8R"
      },
      "source": [
        "# Chi-square Test\n",
        "\n",
        "* Chi-square Test of Independence / Associations\n",
        "* Chi-square Test of Goodness of fit\n",
        "* Chi-square Test of Homogeneity"
      ]
    },
    {
      "cell_type": "code",
      "execution_count": null,
      "metadata": {
        "id": "XrEhDEC98g8X"
      },
      "outputs": [],
      "source": [
        "import pandas as pd\n",
        "from scipy.stats  import chi2_contingency\n",
        "\n",
        "import researchpy as rp\n",
        "from scipy import stats"
      ]
    },
    {
      "cell_type": "markdown",
      "metadata": {
        "id": "wJgXvDoZ8g8Z"
      },
      "source": [
        "# Chi-square Test of Independece / Associations"
      ]
    },
    {
      "cell_type": "markdown",
      "metadata": {
        "id": "yQPhG0508g8a"
      },
      "source": [
        "### Example 1"
      ]
    },
    {
      "cell_type": "code",
      "execution_count": null,
      "metadata": {
        "id": "HZmoY02Z8g8b"
      },
      "outputs": [],
      "source": [
        "#data\n",
        "df = pd.read_csv(r\"Chi-square test Independence.csv\")"
      ]
    },
    {
      "cell_type": "code",
      "execution_count": null,
      "metadata": {
        "scrolled": true,
        "id": "Uq6GamUs8g8b",
        "outputId": "bff9210f-268c-4532-8919-f91b2d5c2e4b"
      },
      "outputs": [
        {
          "data": {
            "text/html": [
              "<div>\n",
              "<style scoped>\n",
              "    .dataframe tbody tr th:only-of-type {\n",
              "        vertical-align: middle;\n",
              "    }\n",
              "\n",
              "    .dataframe tbody tr th {\n",
              "        vertical-align: top;\n",
              "    }\n",
              "\n",
              "    .dataframe thead th {\n",
              "        text-align: right;\n",
              "    }\n",
              "</style>\n",
              "<table border=\"1\" class=\"dataframe\">\n",
              "  <thead>\n",
              "    <tr style=\"text-align: right;\">\n",
              "      <th></th>\n",
              "      <th>Gender</th>\n",
              "      <th>Voting_Preference</th>\n",
              "    </tr>\n",
              "  </thead>\n",
              "  <tbody>\n",
              "    <tr>\n",
              "      <th>0</th>\n",
              "      <td>Male</td>\n",
              "      <td>Republic</td>\n",
              "    </tr>\n",
              "    <tr>\n",
              "      <th>1</th>\n",
              "      <td>Male</td>\n",
              "      <td>Republic</td>\n",
              "    </tr>\n",
              "    <tr>\n",
              "      <th>2</th>\n",
              "      <td>Male</td>\n",
              "      <td>Republic</td>\n",
              "    </tr>\n",
              "    <tr>\n",
              "      <th>3</th>\n",
              "      <td>Male</td>\n",
              "      <td>Republic</td>\n",
              "    </tr>\n",
              "    <tr>\n",
              "      <th>4</th>\n",
              "      <td>Male</td>\n",
              "      <td>Republic</td>\n",
              "    </tr>\n",
              "  </tbody>\n",
              "</table>\n",
              "</div>"
            ],
            "text/plain": [
              "  Gender Voting_Preference\n",
              "0   Male          Republic\n",
              "1   Male          Republic\n",
              "2   Male          Republic\n",
              "3   Male          Republic\n",
              "4   Male          Republic"
            ]
          },
          "execution_count": 3,
          "metadata": {},
          "output_type": "execute_result"
        }
      ],
      "source": [
        "df.head()"
      ]
    },
    {
      "cell_type": "code",
      "execution_count": null,
      "metadata": {
        "scrolled": false,
        "id": "F8sLGI0K8g8d",
        "outputId": "f9372f18-2d78-4b46-851a-09a2f9e277f9"
      },
      "outputs": [
        {
          "data": {
            "text/plain": [
              "Index(['Gender', 'Voting_Preference'], dtype='object')"
            ]
          },
          "execution_count": 4,
          "metadata": {},
          "output_type": "execute_result"
        }
      ],
      "source": [
        "df.columns"
      ]
    },
    {
      "cell_type": "code",
      "execution_count": null,
      "metadata": {
        "id": "IHHtxiAo8g8e",
        "outputId": "8adb97c7-9ce3-42e5-e305-f809437fe739"
      },
      "outputs": [
        {
          "data": {
            "text/plain": [
              "Female    600\n",
              "Male      400\n",
              "Name: Gender, dtype: int64"
            ]
          },
          "execution_count": 5,
          "metadata": {},
          "output_type": "execute_result"
        }
      ],
      "source": [
        "df.Gender.value_counts()"
      ]
    },
    {
      "cell_type": "markdown",
      "metadata": {
        "id": "AJ3JGDgH8g8f"
      },
      "source": [
        "### Hypotheses\n",
        "\n",
        "Ho:- There is no relationship between the Gender and Voting_Preference ( independent )\n",
        "\n",
        "H1:- There is relationship between the Gender and Voting_Preference ( dependent )"
      ]
    },
    {
      "cell_type": "code",
      "execution_count": null,
      "metadata": {
        "scrolled": true,
        "id": "3jJQXOYW8g8g",
        "outputId": "f6c1ba06-a5b4-4e10-87f1-e28156d2746c"
      },
      "outputs": [
        {
          "data": {
            "text/html": [
              "<div>\n",
              "<style scoped>\n",
              "    .dataframe tbody tr th:only-of-type {\n",
              "        vertical-align: middle;\n",
              "    }\n",
              "\n",
              "    .dataframe tbody tr th {\n",
              "        vertical-align: top;\n",
              "    }\n",
              "\n",
              "    .dataframe thead tr th {\n",
              "        text-align: left;\n",
              "    }\n",
              "\n",
              "    .dataframe thead tr:last-of-type th {\n",
              "        text-align: right;\n",
              "    }\n",
              "</style>\n",
              "<table border=\"1\" class=\"dataframe\">\n",
              "  <thead>\n",
              "    <tr>\n",
              "      <th></th>\n",
              "      <th colspan=\"4\" halign=\"left\">Voting_Preference</th>\n",
              "    </tr>\n",
              "    <tr>\n",
              "      <th>Voting_Preference</th>\n",
              "      <th>Democratic</th>\n",
              "      <th>Indian_Party</th>\n",
              "      <th>Republic</th>\n",
              "      <th>All</th>\n",
              "    </tr>\n",
              "    <tr>\n",
              "      <th>Gender</th>\n",
              "      <th></th>\n",
              "      <th></th>\n",
              "      <th></th>\n",
              "      <th></th>\n",
              "    </tr>\n",
              "  </thead>\n",
              "  <tbody>\n",
              "    <tr>\n",
              "      <th>Female</th>\n",
              "      <td>300</td>\n",
              "      <td>50</td>\n",
              "      <td>250</td>\n",
              "      <td>600</td>\n",
              "    </tr>\n",
              "    <tr>\n",
              "      <th>Male</th>\n",
              "      <td>150</td>\n",
              "      <td>50</td>\n",
              "      <td>200</td>\n",
              "      <td>400</td>\n",
              "    </tr>\n",
              "    <tr>\n",
              "      <th>All</th>\n",
              "      <td>450</td>\n",
              "      <td>100</td>\n",
              "      <td>450</td>\n",
              "      <td>1000</td>\n",
              "    </tr>\n",
              "  </tbody>\n",
              "</table>\n",
              "</div>"
            ],
            "text/plain": [
              "                  Voting_Preference                            \n",
              "Voting_Preference        Democratic Indian_Party Republic   All\n",
              "Gender                                                         \n",
              "Female                          300           50      250   600\n",
              "Male                            150           50      200   400\n",
              "All                             450          100      450  1000"
            ]
          },
          "execution_count": 6,
          "metadata": {},
          "output_type": "execute_result"
        }
      ],
      "source": [
        "table, results = rp.crosstab(df['Gender'], df['Voting_Preference'], test= 'chi-square') #,prop='row')\n",
        "\n",
        "table"
      ]
    },
    {
      "cell_type": "code",
      "execution_count": null,
      "metadata": {
        "id": "4zC7c69P8g8h",
        "outputId": "7ba73394-4f6e-4be1-e3f4-55daac3fc5ac"
      },
      "outputs": [
        {
          "data": {
            "text/html": [
              "<div>\n",
              "<style scoped>\n",
              "    .dataframe tbody tr th:only-of-type {\n",
              "        vertical-align: middle;\n",
              "    }\n",
              "\n",
              "    .dataframe tbody tr th {\n",
              "        vertical-align: top;\n",
              "    }\n",
              "\n",
              "    .dataframe thead th {\n",
              "        text-align: right;\n",
              "    }\n",
              "</style>\n",
              "<table border=\"1\" class=\"dataframe\">\n",
              "  <thead>\n",
              "    <tr style=\"text-align: right;\">\n",
              "      <th></th>\n",
              "      <th>Chi-square test</th>\n",
              "      <th>results</th>\n",
              "    </tr>\n",
              "  </thead>\n",
              "  <tbody>\n",
              "    <tr>\n",
              "      <th>0</th>\n",
              "      <td>Pearson Chi-square ( 2.0) =</td>\n",
              "      <td>16.2037</td>\n",
              "    </tr>\n",
              "    <tr>\n",
              "      <th>1</th>\n",
              "      <td>p-value =</td>\n",
              "      <td>0.0003</td>\n",
              "    </tr>\n",
              "    <tr>\n",
              "      <th>2</th>\n",
              "      <td>Cramer's V =</td>\n",
              "      <td>0.1273</td>\n",
              "    </tr>\n",
              "  </tbody>\n",
              "</table>\n",
              "</div>"
            ],
            "text/plain": [
              "                Chi-square test  results\n",
              "0  Pearson Chi-square ( 2.0) =   16.2037\n",
              "1                    p-value =    0.0003\n",
              "2                 Cramer's V =    0.1273"
            ]
          },
          "execution_count": 10,
          "metadata": {},
          "output_type": "execute_result"
        }
      ],
      "source": [
        "results  # Alpha = 0.05"
      ]
    },
    {
      "cell_type": "markdown",
      "metadata": {
        "id": "CgrHmHMI8g8i"
      },
      "source": [
        "### Conclusion\n",
        "* We Reject Ho\n",
        "* There is relationship between the Gender and Voting_Preference ( dependent )"
      ]
    },
    {
      "cell_type": "markdown",
      "metadata": {
        "id": "8Gsoz0FL8g8i"
      },
      "source": [
        "# Chi-square Test Goodness of fit"
      ]
    },
    {
      "cell_type": "markdown",
      "metadata": {
        "id": "v9asfnj98g8i"
      },
      "source": [
        "* Acme toy co. prints baseball cards.\n",
        "* The company claims that 30% of the cards are rookies;\n",
        "* 60% veteran but not all steps & 10% are veteran All-stars\n",
        "* suppose a all random sample of 100 cards has 50 rookies , 45 veterans & 5 all-stars.\n",
        "* Is this consistent with Acme’s claims? Use 0.05 level of significance"
      ]
    },
    {
      "cell_type": "markdown",
      "metadata": {
        "id": "k_37QD3J8g8j"
      },
      "source": [
        "### Hypotheses\n",
        "\n",
        "* Ho:- The proportion of rookies , Vetrans & all stars is 30% , 60% & 10% will not have different proportion in Sample\n",
        "* H1:- The proportion of rookies , Vetrans & all stars is 30% , 60% & 10% will have different proportion in Sample\n"
      ]
    },
    {
      "cell_type": "code",
      "execution_count": null,
      "metadata": {
        "id": "7NzDvHKl8g8j"
      },
      "outputs": [],
      "source": [
        "import scipy.stats as stats"
      ]
    },
    {
      "cell_type": "code",
      "execution_count": null,
      "metadata": {
        "id": "2VC88R9o8g8k"
      },
      "outputs": [],
      "source": [
        "def expected_value(n,p1,p2,p3):\n",
        "    e1=n*p1\n",
        "    e2=n*p2\n",
        "    e3=n*p3\n",
        "    return list([e1,e2,e3])"
      ]
    },
    {
      "cell_type": "code",
      "execution_count": null,
      "metadata": {
        "id": "mw7jszk18g8k",
        "outputId": "dc3a2a65-38d0-4f02-8852-f4ad907bcc3a"
      },
      "outputs": [
        {
          "data": {
            "text/plain": [
              "[30.0, 60.0, 10.0]"
            ]
          },
          "execution_count": 4,
          "metadata": {},
          "output_type": "execute_result"
        }
      ],
      "source": [
        "expected_value(100,0.30,0.60,0.10)"
      ]
    },
    {
      "cell_type": "code",
      "execution_count": null,
      "metadata": {
        "id": "tVbtI0mt8g8l"
      },
      "outputs": [],
      "source": [
        "expected = [30, 60,10]\n",
        "observed = [50, 45,5]"
      ]
    },
    {
      "cell_type": "code",
      "execution_count": null,
      "metadata": {
        "id": "71He1V9z8g8m",
        "outputId": "36987a89-0706-48d4-c77c-03510f1f6c0c"
      },
      "outputs": [
        {
          "data": {
            "text/plain": [
              "Power_divergenceResult(statistic=19.583333333333336, pvalue=5.5915626856371765e-05)"
            ]
          },
          "execution_count": 18,
          "metadata": {},
          "output_type": "execute_result"
        }
      ],
      "source": [
        "stats.chisquare(f_obs=observed, f_exp=expected)"
      ]
    },
    {
      "cell_type": "code",
      "execution_count": null,
      "metadata": {
        "id": "IAL_TH8J8g8m"
      },
      "outputs": [],
      "source": [
        "p-value = 0.0000595 <= Alpha = 0.05"
      ]
    },
    {
      "cell_type": "markdown",
      "metadata": {
        "id": "fh6DhULN8g8n"
      },
      "source": [
        "### Conclusion\n",
        "* We Reject Ho\n",
        "* The proportion of rookies , Vetrans & all stars is 30% , 60% & 10% will have different proportion in Sample\n"
      ]
    },
    {
      "cell_type": "markdown",
      "metadata": {
        "id": "7wHTs4st8g8n"
      },
      "source": [
        "# Chi-Square Test of Homogeneity"
      ]
    },
    {
      "cell_type": "markdown",
      "metadata": {
        "id": "lAMQNrZm8g8n"
      },
      "source": [
        "### Example 1"
      ]
    },
    {
      "cell_type": "markdown",
      "metadata": {
        "id": "P5VXBDCz8g8o"
      },
      "source": [
        "### Hypotheses\n",
        "\n",
        "* Ho:- The proportion of boys who prefer the Lone Ranger,Sesame_Street,The_Simpsons is identical to the proportion of girls\n",
        "*\n",
        "Vs\n",
        "\n",
        "* H1 :-  At least one of the null hypothesis statements is false."
      ]
    },
    {
      "cell_type": "code",
      "execution_count": null,
      "metadata": {
        "id": "_jS2rcDA8g8o"
      },
      "outputs": [],
      "source": [
        "# data\n",
        "df = pd.read_csv(r\"Chi-square test Homogeneity.csv\")"
      ]
    },
    {
      "cell_type": "code",
      "execution_count": null,
      "metadata": {
        "id": "Um7upUul8g8o",
        "outputId": "65f69c30-f7ae-4ce8-85f6-a6cfa3d34f44"
      },
      "outputs": [
        {
          "data": {
            "text/plain": [
              "Index(['Gender', 'Viewing_Preference'], dtype='object')"
            ]
          },
          "execution_count": 8,
          "metadata": {},
          "output_type": "execute_result"
        }
      ],
      "source": [
        "df.columns"
      ]
    },
    {
      "cell_type": "code",
      "execution_count": null,
      "metadata": {
        "id": "X6Pow-o28g8p",
        "outputId": "7a9f8361-10ba-41b8-89b1-0838d00ff499"
      },
      "outputs": [
        {
          "data": {
            "text/html": [
              "<div>\n",
              "<style scoped>\n",
              "    .dataframe tbody tr th:only-of-type {\n",
              "        vertical-align: middle;\n",
              "    }\n",
              "\n",
              "    .dataframe tbody tr th {\n",
              "        vertical-align: top;\n",
              "    }\n",
              "\n",
              "    .dataframe thead th {\n",
              "        text-align: right;\n",
              "    }\n",
              "</style>\n",
              "<table border=\"1\" class=\"dataframe\">\n",
              "  <thead>\n",
              "    <tr style=\"text-align: right;\">\n",
              "      <th></th>\n",
              "      <th>Gender</th>\n",
              "      <th>Viewing_Preference</th>\n",
              "    </tr>\n",
              "  </thead>\n",
              "  <tbody>\n",
              "    <tr>\n",
              "      <th>0</th>\n",
              "      <td>Boys</td>\n",
              "      <td>Lone_Ranger</td>\n",
              "    </tr>\n",
              "    <tr>\n",
              "      <th>1</th>\n",
              "      <td>Boys</td>\n",
              "      <td>Lone_Ranger</td>\n",
              "    </tr>\n",
              "    <tr>\n",
              "      <th>2</th>\n",
              "      <td>Boys</td>\n",
              "      <td>Lone_Ranger</td>\n",
              "    </tr>\n",
              "    <tr>\n",
              "      <th>3</th>\n",
              "      <td>Boys</td>\n",
              "      <td>Lone_Ranger</td>\n",
              "    </tr>\n",
              "    <tr>\n",
              "      <th>4</th>\n",
              "      <td>Boys</td>\n",
              "      <td>Lone_Ranger</td>\n",
              "    </tr>\n",
              "    <tr>\n",
              "      <th>...</th>\n",
              "      <td>...</td>\n",
              "      <td>...</td>\n",
              "    </tr>\n",
              "    <tr>\n",
              "      <th>295</th>\n",
              "      <td>Girls</td>\n",
              "      <td>The_Simpsons</td>\n",
              "    </tr>\n",
              "    <tr>\n",
              "      <th>296</th>\n",
              "      <td>Girls</td>\n",
              "      <td>The_Simpsons</td>\n",
              "    </tr>\n",
              "    <tr>\n",
              "      <th>297</th>\n",
              "      <td>Girls</td>\n",
              "      <td>The_Simpsons</td>\n",
              "    </tr>\n",
              "    <tr>\n",
              "      <th>298</th>\n",
              "      <td>Girls</td>\n",
              "      <td>The_Simpsons</td>\n",
              "    </tr>\n",
              "    <tr>\n",
              "      <th>299</th>\n",
              "      <td>Girls</td>\n",
              "      <td>The_Simpsons</td>\n",
              "    </tr>\n",
              "  </tbody>\n",
              "</table>\n",
              "<p>300 rows × 2 columns</p>\n",
              "</div>"
            ],
            "text/plain": [
              "    Gender Viewing_Preference\n",
              "0     Boys        Lone_Ranger\n",
              "1     Boys        Lone_Ranger\n",
              "2     Boys        Lone_Ranger\n",
              "3     Boys        Lone_Ranger\n",
              "4     Boys        Lone_Ranger\n",
              "..     ...                ...\n",
              "295  Girls       The_Simpsons\n",
              "296  Girls       The_Simpsons\n",
              "297  Girls       The_Simpsons\n",
              "298  Girls       The_Simpsons\n",
              "299  Girls       The_Simpsons\n",
              "\n",
              "[300 rows x 2 columns]"
            ]
          },
          "execution_count": 9,
          "metadata": {},
          "output_type": "execute_result"
        }
      ],
      "source": [
        "df"
      ]
    },
    {
      "cell_type": "code",
      "execution_count": null,
      "metadata": {
        "scrolled": true,
        "id": "FkznD0XK8g8p",
        "outputId": "d424b17b-f309-4f7a-ea29-064a68b0c843"
      },
      "outputs": [
        {
          "data": {
            "text/html": [
              "<div>\n",
              "<style scoped>\n",
              "    .dataframe tbody tr th:only-of-type {\n",
              "        vertical-align: middle;\n",
              "    }\n",
              "\n",
              "    .dataframe tbody tr th {\n",
              "        vertical-align: top;\n",
              "    }\n",
              "\n",
              "    .dataframe thead tr th {\n",
              "        text-align: left;\n",
              "    }\n",
              "\n",
              "    .dataframe thead tr:last-of-type th {\n",
              "        text-align: right;\n",
              "    }\n",
              "</style>\n",
              "<table border=\"1\" class=\"dataframe\">\n",
              "  <thead>\n",
              "    <tr>\n",
              "      <th></th>\n",
              "      <th colspan=\"4\" halign=\"left\">Viewing_Preference</th>\n",
              "    </tr>\n",
              "    <tr>\n",
              "      <th>Viewing_Preference</th>\n",
              "      <th>Lone_Ranger</th>\n",
              "      <th>Sesame_Street</th>\n",
              "      <th>The_Simpsons</th>\n",
              "      <th>All</th>\n",
              "    </tr>\n",
              "    <tr>\n",
              "      <th>Gender</th>\n",
              "      <th></th>\n",
              "      <th></th>\n",
              "      <th></th>\n",
              "      <th></th>\n",
              "    </tr>\n",
              "  </thead>\n",
              "  <tbody>\n",
              "    <tr>\n",
              "      <th>Boys</th>\n",
              "      <td>50</td>\n",
              "      <td>30</td>\n",
              "      <td>20</td>\n",
              "      <td>100</td>\n",
              "    </tr>\n",
              "    <tr>\n",
              "      <th>Girls</th>\n",
              "      <td>50</td>\n",
              "      <td>80</td>\n",
              "      <td>70</td>\n",
              "      <td>200</td>\n",
              "    </tr>\n",
              "    <tr>\n",
              "      <th>All</th>\n",
              "      <td>100</td>\n",
              "      <td>110</td>\n",
              "      <td>90</td>\n",
              "      <td>300</td>\n",
              "    </tr>\n",
              "  </tbody>\n",
              "</table>\n",
              "</div>"
            ],
            "text/plain": [
              "                   Viewing_Preference                                \n",
              "Viewing_Preference        Lone_Ranger Sesame_Street The_Simpsons  All\n",
              "Gender                                                               \n",
              "Boys                               50            30           20  100\n",
              "Girls                              50            80           70  200\n",
              "All                               100           110           90  300"
            ]
          },
          "execution_count": 9,
          "metadata": {},
          "output_type": "execute_result"
        }
      ],
      "source": [
        "table, results = rp.crosstab(df['Gender'], df['Viewing_Preference'], test= 'chi-square') #,prop='row')\n",
        "\n",
        "table"
      ]
    },
    {
      "cell_type": "code",
      "execution_count": null,
      "metadata": {
        "id": "NphvrwMJ8g8q",
        "outputId": "ed82088c-7bfe-48a2-b8b3-aefa62346965"
      },
      "outputs": [
        {
          "data": {
            "text/html": [
              "<div>\n",
              "<style scoped>\n",
              "    .dataframe tbody tr th:only-of-type {\n",
              "        vertical-align: middle;\n",
              "    }\n",
              "\n",
              "    .dataframe tbody tr th {\n",
              "        vertical-align: top;\n",
              "    }\n",
              "\n",
              "    .dataframe thead th {\n",
              "        text-align: right;\n",
              "    }\n",
              "</style>\n",
              "<table border=\"1\" class=\"dataframe\">\n",
              "  <thead>\n",
              "    <tr style=\"text-align: right;\">\n",
              "      <th></th>\n",
              "      <th>Chi-square test</th>\n",
              "      <th>results</th>\n",
              "    </tr>\n",
              "  </thead>\n",
              "  <tbody>\n",
              "    <tr>\n",
              "      <th>0</th>\n",
              "      <td>Pearson Chi-square ( 2.0) =</td>\n",
              "      <td>19.3182</td>\n",
              "    </tr>\n",
              "    <tr>\n",
              "      <th>1</th>\n",
              "      <td>p-value =</td>\n",
              "      <td>0.0001</td>\n",
              "    </tr>\n",
              "    <tr>\n",
              "      <th>2</th>\n",
              "      <td>Cramer's V =</td>\n",
              "      <td>0.2538</td>\n",
              "    </tr>\n",
              "  </tbody>\n",
              "</table>\n",
              "</div>"
            ],
            "text/plain": [
              "                Chi-square test  results\n",
              "0  Pearson Chi-square ( 2.0) =   19.3182\n",
              "1                    p-value =    0.0001\n",
              "2                 Cramer's V =    0.2538"
            ]
          },
          "execution_count": 10,
          "metadata": {},
          "output_type": "execute_result"
        }
      ],
      "source": [
        "results  # Alpha = 0.05"
      ]
    },
    {
      "cell_type": "markdown",
      "metadata": {
        "id": "xxfFJkmC8g8q"
      },
      "source": [
        "#### Conclusion\n",
        "*  We Reject Ho\n",
        "* At least one of the null hypothesis statements is false."
      ]
    }
  ],
  "metadata": {
    "kernelspec": {
      "display_name": "Python 3",
      "language": "python",
      "name": "python3"
    },
    "language_info": {
      "codemirror_mode": {
        "name": "ipython",
        "version": 3
      },
      "file_extension": ".py",
      "mimetype": "text/x-python",
      "name": "python",
      "nbconvert_exporter": "python",
      "pygments_lexer": "ipython3",
      "version": "3.8.5"
    },
    "colab": {
      "provenance": []
    }
  },
  "nbformat": 4,
  "nbformat_minor": 0
}