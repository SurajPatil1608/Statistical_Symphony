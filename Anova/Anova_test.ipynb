{
  "cells": [
    {
      "cell_type": "markdown",
      "metadata": {
        "id": "XsF7rkiJ64w1"
      },
      "source": [
        "# One Way Anova"
      ]
    },
    {
      "cell_type": "code",
      "execution_count": null,
      "metadata": {
        "id": "x84VBNf-64w5"
      },
      "outputs": [],
      "source": [
        "import pandas as pd\n",
        "\n",
        "#ANOVA\n",
        "import scipy.stats as stats\n",
        "import researchpy as rp\n",
        "import statsmodels.api as sm\n",
        "from statsmodels.formula.api import ols\n",
        "import statsmodels.stats.multicomp\n",
        "\n",
        "import seaborn as sns\n",
        "import matplotlib.pyplot as plt"
      ]
    },
    {
      "cell_type": "code",
      "execution_count": null,
      "metadata": {
        "id": "5hyFAnvj64w8",
        "outputId": "85840922-f25d-4038-cf4f-188b29bc9eb2"
      },
      "outputs": [
        {
          "data": {
            "text/html": [
              "<div>\n",
              "<style scoped>\n",
              "    .dataframe tbody tr th:only-of-type {\n",
              "        vertical-align: middle;\n",
              "    }\n",
              "\n",
              "    .dataframe tbody tr th {\n",
              "        vertical-align: top;\n",
              "    }\n",
              "\n",
              "    .dataframe thead th {\n",
              "        text-align: right;\n",
              "    }\n",
              "</style>\n",
              "<table border=\"1\" class=\"dataframe\">\n",
              "  <thead>\n",
              "    <tr style=\"text-align: right;\">\n",
              "      <th></th>\n",
              "      <th>Type_of_Car</th>\n",
              "      <th>Sales</th>\n",
              "    </tr>\n",
              "  </thead>\n",
              "  <tbody>\n",
              "    <tr>\n",
              "      <th>0</th>\n",
              "      <td>i20</td>\n",
              "      <td>20</td>\n",
              "    </tr>\n",
              "    <tr>\n",
              "      <th>1</th>\n",
              "      <td>Swift</td>\n",
              "      <td>10</td>\n",
              "    </tr>\n",
              "    <tr>\n",
              "      <th>2</th>\n",
              "      <td>Baleno</td>\n",
              "      <td>30</td>\n",
              "    </tr>\n",
              "    <tr>\n",
              "      <th>3</th>\n",
              "      <td>i20</td>\n",
              "      <td>10</td>\n",
              "    </tr>\n",
              "    <tr>\n",
              "      <th>4</th>\n",
              "      <td>Swift</td>\n",
              "      <td>8</td>\n",
              "    </tr>\n",
              "    <tr>\n",
              "      <th>5</th>\n",
              "      <td>Baleno</td>\n",
              "      <td>20</td>\n",
              "    </tr>\n",
              "    <tr>\n",
              "      <th>6</th>\n",
              "      <td>i20</td>\n",
              "      <td>14</td>\n",
              "    </tr>\n",
              "    <tr>\n",
              "      <th>7</th>\n",
              "      <td>Swift</td>\n",
              "      <td>11</td>\n",
              "    </tr>\n",
              "    <tr>\n",
              "      <th>8</th>\n",
              "      <td>Baleno</td>\n",
              "      <td>35</td>\n",
              "    </tr>\n",
              "  </tbody>\n",
              "</table>\n",
              "</div>"
            ],
            "text/plain": [
              "  Type_of_Car  Sales\n",
              "0         i20     20\n",
              "1       Swift     10\n",
              "2      Baleno     30\n",
              "3         i20     10\n",
              "4       Swift      8\n",
              "5      Baleno     20\n",
              "6         i20     14\n",
              "7       Swift     11\n",
              "8      Baleno     35"
            ]
          },
          "execution_count": 15,
          "metadata": {},
          "output_type": "execute_result"
        }
      ],
      "source": [
        "# Loading data\n",
        "df = pd.read_excel(\"Anova_demo.xlsx\")\n",
        "df"
      ]
    },
    {
      "cell_type": "markdown",
      "metadata": {
        "id": "JF6JWiUX64w9"
      },
      "source": [
        "# Level of Significance or error\n",
        "* Alpha = 0.05 (5%)"
      ]
    },
    {
      "cell_type": "markdown",
      "metadata": {
        "id": "pCgYXHY764w-"
      },
      "source": [
        "#### Hypothesis\n",
        "\n",
        "* H0 :  There is no significant difference between the all type of car with respect to sales\n",
        "Vs\n",
        "\n",
        "* H1 :  There is significant difference between the all type of car with respect to sales\n"
      ]
    },
    {
      "cell_type": "markdown",
      "metadata": {
        "id": "OiLNv8r864w_"
      },
      "source": [
        "#### Method 1"
      ]
    },
    {
      "cell_type": "code",
      "execution_count": null,
      "metadata": {
        "id": "G2g0ijPG64xB",
        "outputId": "5698537e-50b9-4b19-fdda-2c7197ab6b55"
      },
      "outputs": [
        {
          "data": {
            "text/plain": [
              "F_onewayResult(statistic=9.771317829457363, pvalue=0.012961540621068553)"
            ]
          },
          "execution_count": 4,
          "metadata": {},
          "output_type": "execute_result"
        }
      ],
      "source": [
        "stats.f_oneway(df['Sales'][df['Type_of_Car'] == 'i20'],\n",
        "             df['Sales'][df['Type_of_Car'] == 'Swift'],\n",
        "             df['Sales'][df['Type_of_Car'] == 'Baleno'])"
      ]
    },
    {
      "cell_type": "markdown",
      "metadata": {
        "id": "_4KJXqFf64xC"
      },
      "source": [
        "#### Method 2"
      ]
    },
    {
      "cell_type": "code",
      "execution_count": null,
      "metadata": {
        "id": "tx4ZB1GY64xC"
      },
      "outputs": [],
      "source": [
        "results = ols('Sales ~ C(Type_of_Car)', data=df).fit()"
      ]
    },
    {
      "cell_type": "code",
      "execution_count": null,
      "metadata": {
        "id": "LXcH3Am_64xD",
        "outputId": "5586b1bb-9ff2-47e3-ffb9-0fd6737b34dd"
      },
      "outputs": [
        {
          "data": {
            "text/html": [
              "<div>\n",
              "<style scoped>\n",
              "    .dataframe tbody tr th:only-of-type {\n",
              "        vertical-align: middle;\n",
              "    }\n",
              "\n",
              "    .dataframe tbody tr th {\n",
              "        vertical-align: top;\n",
              "    }\n",
              "\n",
              "    .dataframe thead th {\n",
              "        text-align: right;\n",
              "    }\n",
              "</style>\n",
              "<table border=\"1\" class=\"dataframe\">\n",
              "  <thead>\n",
              "    <tr style=\"text-align: right;\">\n",
              "      <th></th>\n",
              "      <th>sum_sq</th>\n",
              "      <th>df</th>\n",
              "      <th>F</th>\n",
              "      <th>PR(&gt;F)</th>\n",
              "    </tr>\n",
              "  </thead>\n",
              "  <tbody>\n",
              "    <tr>\n",
              "      <th>C(Type_of_Car)</th>\n",
              "      <td>560.222222</td>\n",
              "      <td>2.0</td>\n",
              "      <td>9.771318</td>\n",
              "      <td>0.012962</td>\n",
              "    </tr>\n",
              "    <tr>\n",
              "      <th>Residual</th>\n",
              "      <td>172.000000</td>\n",
              "      <td>6.0</td>\n",
              "      <td>NaN</td>\n",
              "      <td>NaN</td>\n",
              "    </tr>\n",
              "  </tbody>\n",
              "</table>\n",
              "</div>"
            ],
            "text/plain": [
              "                    sum_sq   df         F    PR(>F)\n",
              "C(Type_of_Car)  560.222222  2.0  9.771318  0.012962\n",
              "Residual        172.000000  6.0       NaN       NaN"
            ]
          },
          "execution_count": 6,
          "metadata": {},
          "output_type": "execute_result"
        }
      ],
      "source": [
        "aov_table = sm.stats.anova_lm(results, typ=2)\n",
        "\n",
        "aov_table"
      ]
    },
    {
      "cell_type": "markdown",
      "metadata": {
        "id": "FWgg4ntz64xE"
      },
      "source": [
        "# Conclusion\n",
        "* We Reject Ho\n",
        "\n",
        "*  There is significant difference between the all type of car with respect to sales"
      ]
    },
    {
      "cell_type": "markdown",
      "metadata": {
        "id": "CKzfGgHl64xE"
      },
      "source": [
        "### Post-hoc Testing\n"
      ]
    },
    {
      "cell_type": "markdown",
      "metadata": {
        "id": "OBMFwJEa64xE"
      },
      "source": [
        "* H0:- there is no different in type of car\n",
        "    vs\n",
        "* H1:- there is different in type of car"
      ]
    },
    {
      "cell_type": "code",
      "execution_count": null,
      "metadata": {
        "scrolled": true,
        "id": "7faXNJfr64xF",
        "outputId": "10be8921-916e-4214-fd55-3dc4ac96f940"
      },
      "outputs": [
        {
          "name": "stdout",
          "output_type": "stream",
          "text": [
            " Multiple Comparison of Means - Tukey HSD, FWER=0.05 \n",
            "=====================================================\n",
            "group1 group2 meandiff p-adj   lower    upper  reject\n",
            "-----------------------------------------------------\n",
            "Baleno  Swift -18.6667 0.0124 -32.0644  -5.269   True\n",
            "Baleno    i20 -13.6667 0.0463 -27.0644  -0.269   True\n",
            " Swift    i20      5.0 0.5256  -8.3977 18.3977  False\n",
            "-----------------------------------------------------\n"
          ]
        }
      ],
      "source": [
        "from statsmodels.stats.multicomp import pairwise_tukeyhsd\n",
        "from statsmodels.stats.multicomp import MultiComparison\n",
        "\n",
        "mc = MultiComparison(df['Sales'], df['Type_of_Car'])\n",
        "mc_results = mc.tukeyhsd()\n",
        "print(mc_results)"
      ]
    },
    {
      "cell_type": "markdown",
      "metadata": {
        "id": "haDuAnG-64xF"
      },
      "source": [
        "* Baleno is different then compare to other car in terms of Sales"
      ]
    },
    {
      "cell_type": "markdown",
      "metadata": {
        "id": "4lBf5H0G64xF"
      },
      "source": [
        "# Two Anova"
      ]
    },
    {
      "cell_type": "code",
      "execution_count": null,
      "metadata": {
        "id": "XKDTxxvw64xF",
        "outputId": "188b67d2-eb0f-495c-8081-858b8797a277"
      },
      "outputs": [
        {
          "data": {
            "text/html": [
              "<div>\n",
              "<style scoped>\n",
              "    .dataframe tbody tr th:only-of-type {\n",
              "        vertical-align: middle;\n",
              "    }\n",
              "\n",
              "    .dataframe tbody tr th {\n",
              "        vertical-align: top;\n",
              "    }\n",
              "\n",
              "    .dataframe thead th {\n",
              "        text-align: right;\n",
              "    }\n",
              "</style>\n",
              "<table border=\"1\" class=\"dataframe\">\n",
              "  <thead>\n",
              "    <tr style=\"text-align: right;\">\n",
              "      <th></th>\n",
              "      <th>Location</th>\n",
              "      <th>Type_of_Car</th>\n",
              "      <th>Sales</th>\n",
              "    </tr>\n",
              "  </thead>\n",
              "  <tbody>\n",
              "    <tr>\n",
              "      <th>0</th>\n",
              "      <td>India</td>\n",
              "      <td>i20</td>\n",
              "      <td>20</td>\n",
              "    </tr>\n",
              "    <tr>\n",
              "      <th>1</th>\n",
              "      <td>India</td>\n",
              "      <td>Swift</td>\n",
              "      <td>10</td>\n",
              "    </tr>\n",
              "    <tr>\n",
              "      <th>2</th>\n",
              "      <td>India</td>\n",
              "      <td>Baleno</td>\n",
              "      <td>30</td>\n",
              "    </tr>\n",
              "    <tr>\n",
              "      <th>3</th>\n",
              "      <td>Oman</td>\n",
              "      <td>i20</td>\n",
              "      <td>10</td>\n",
              "    </tr>\n",
              "    <tr>\n",
              "      <th>4</th>\n",
              "      <td>Oman</td>\n",
              "      <td>Swift</td>\n",
              "      <td>8</td>\n",
              "    </tr>\n",
              "    <tr>\n",
              "      <th>5</th>\n",
              "      <td>Oman</td>\n",
              "      <td>Baleno</td>\n",
              "      <td>20</td>\n",
              "    </tr>\n",
              "    <tr>\n",
              "      <th>6</th>\n",
              "      <td>Saudi Arabia</td>\n",
              "      <td>i20</td>\n",
              "      <td>14</td>\n",
              "    </tr>\n",
              "    <tr>\n",
              "      <th>7</th>\n",
              "      <td>Saudi Arabia</td>\n",
              "      <td>Swift</td>\n",
              "      <td>11</td>\n",
              "    </tr>\n",
              "    <tr>\n",
              "      <th>8</th>\n",
              "      <td>Saudi Arabia</td>\n",
              "      <td>Baleno</td>\n",
              "      <td>35</td>\n",
              "    </tr>\n",
              "  </tbody>\n",
              "</table>\n",
              "</div>"
            ],
            "text/plain": [
              "       Location Type_of_Car  Sales\n",
              "0         India         i20     20\n",
              "1         India       Swift     10\n",
              "2         India      Baleno     30\n",
              "3          Oman         i20     10\n",
              "4          Oman       Swift      8\n",
              "5          Oman      Baleno     20\n",
              "6  Saudi Arabia         i20     14\n",
              "7  Saudi Arabia       Swift     11\n",
              "8  Saudi Arabia      Baleno     35"
            ]
          },
          "execution_count": 8,
          "metadata": {},
          "output_type": "execute_result"
        }
      ],
      "source": [
        "# Loading data\n",
        "df = pd.read_excel(\"Anova_demo.xlsx\",sheet_name=\"two\")\n",
        "df"
      ]
    },
    {
      "cell_type": "markdown",
      "metadata": {
        "id": "LDp55Rt564xG"
      },
      "source": [
        "#### Hypothesis\n",
        "\n",
        "### Car\n",
        "* H0 :  There is no significant difference between the all type of car with respect to sales\n",
        "Vs\n",
        "\n",
        "* H1 :  There is significant difference between the all type of car with respect to sales\n",
        "\n",
        "\n",
        "### Location  \n",
        "* H0 :  There is no significant difference between the all type of Location with respect to sales\n",
        "Vs\n",
        "\n",
        "* H1 :  There is significant difference between the all type of Location with respect to sales\n"
      ]
    },
    {
      "cell_type": "code",
      "execution_count": null,
      "metadata": {
        "id": "wS08BTG564xG"
      },
      "outputs": [],
      "source": [
        "model = ols('Sales ~ C(Type_of_Car)+C(Location)', df).fit()"
      ]
    },
    {
      "cell_type": "code",
      "execution_count": null,
      "metadata": {
        "scrolled": true,
        "id": "GSbqwymQ64xH",
        "outputId": "bf5b35cb-2c67-4875-b017-ff6f6398a788"
      },
      "outputs": [
        {
          "data": {
            "text/html": [
              "<div>\n",
              "<style scoped>\n",
              "    .dataframe tbody tr th:only-of-type {\n",
              "        vertical-align: middle;\n",
              "    }\n",
              "\n",
              "    .dataframe tbody tr th {\n",
              "        vertical-align: top;\n",
              "    }\n",
              "\n",
              "    .dataframe thead th {\n",
              "        text-align: right;\n",
              "    }\n",
              "</style>\n",
              "<table border=\"1\" class=\"dataframe\">\n",
              "  <thead>\n",
              "    <tr style=\"text-align: right;\">\n",
              "      <th></th>\n",
              "      <th>sum_sq</th>\n",
              "      <th>df</th>\n",
              "      <th>F</th>\n",
              "      <th>PR(&gt;F)</th>\n",
              "    </tr>\n",
              "  </thead>\n",
              "  <tbody>\n",
              "    <tr>\n",
              "      <th>C(Type_of_Car)</th>\n",
              "      <td>560.222222</td>\n",
              "      <td>2.0</td>\n",
              "      <td>17.386207</td>\n",
              "      <td>0.010643</td>\n",
              "    </tr>\n",
              "    <tr>\n",
              "      <th>C(Location)</th>\n",
              "      <td>107.555556</td>\n",
              "      <td>2.0</td>\n",
              "      <td>3.337931</td>\n",
              "      <td>0.140383</td>\n",
              "    </tr>\n",
              "    <tr>\n",
              "      <th>Residual</th>\n",
              "      <td>64.444444</td>\n",
              "      <td>4.0</td>\n",
              "      <td>NaN</td>\n",
              "      <td>NaN</td>\n",
              "    </tr>\n",
              "  </tbody>\n",
              "</table>\n",
              "</div>"
            ],
            "text/plain": [
              "                    sum_sq   df          F    PR(>F)\n",
              "C(Type_of_Car)  560.222222  2.0  17.386207  0.010643\n",
              "C(Location)     107.555556  2.0   3.337931  0.140383\n",
              "Residual         64.444444  4.0        NaN       NaN"
            ]
          },
          "execution_count": 10,
          "metadata": {},
          "output_type": "execute_result"
        }
      ],
      "source": [
        "# Creates the ANOVA table\n",
        "result = sm.stats.anova_lm(model, typ= 2)\n",
        "result  # Alpha = 0.05"
      ]
    },
    {
      "cell_type": "markdown",
      "metadata": {
        "id": "6-fkr3Z864xH"
      },
      "source": [
        "# Conclusion\n",
        "* We Reject Ho for type of car\n",
        "\n",
        "*  There is significant difference between the all type of car with respect to sales\n",
        "*  There is no significant difference between the location with respect to sales"
      ]
    },
    {
      "cell_type": "markdown",
      "metadata": {
        "id": "BfRXZK1264xI"
      },
      "source": [
        "### Post-hoc Testing\n"
      ]
    },
    {
      "cell_type": "code",
      "execution_count": null,
      "metadata": {
        "id": "oDvIZ9pR64xI",
        "outputId": "e772cfc1-a385-4a1b-ea69-163b8459c154"
      },
      "outputs": [
        {
          "name": "stdout",
          "output_type": "stream",
          "text": [
            " Multiple Comparison of Means - Tukey HSD, FWER=0.05 \n",
            "=====================================================\n",
            "group1 group2 meandiff p-adj   lower    upper  reject\n",
            "-----------------------------------------------------\n",
            "Baleno  Swift -18.6667 0.0124 -32.0644  -5.269   True\n",
            "Baleno    i20 -13.6667 0.0463 -27.0644  -0.269   True\n",
            " Swift    i20      5.0 0.5256  -8.3977 18.3977  False\n",
            "-----------------------------------------------------\n"
          ]
        }
      ],
      "source": [
        "mc = statsmodels.stats.multicomp.MultiComparison(df['Sales'], df['Type_of_Car'])\n",
        "mc_results = mc.tukeyhsd()\n",
        "print(mc_results)"
      ]
    },
    {
      "cell_type": "code",
      "execution_count": null,
      "metadata": {
        "id": "TMhsjW3P64xJ",
        "outputId": "325cc694-5b22-4ae3-89d9-0c1983a20001"
      },
      "outputs": [
        {
          "name": "stdout",
          "output_type": "stream",
          "text": [
            "    Multiple Comparison of Means - Tukey HSD, FWER=0.05    \n",
            "===========================================================\n",
            "group1    group2    meandiff p-adj   lower    upper  reject\n",
            "-----------------------------------------------------------\n",
            " India         Oman  -7.3333 0.6645 -32.8657  18.199  False\n",
            " India Saudi Arabia      0.0    0.9 -25.5323 25.5323  False\n",
            "  Oman Saudi Arabia   7.3333 0.6645  -18.199 32.8657  False\n",
            "-----------------------------------------------------------\n"
          ]
        }
      ],
      "source": [
        "mc = statsmodels.stats.multicomp.MultiComparison(df['Sales'], df['Location'])\n",
        "mc_results = mc.tukeyhsd()\n",
        "print(mc_results)  # Alpha = 0.05"
      ]
    }
  ],
  "metadata": {
    "kernelspec": {
      "display_name": "Python 3",
      "language": "python",
      "name": "python3"
    },
    "language_info": {
      "codemirror_mode": {
        "name": "ipython",
        "version": 3
      },
      "file_extension": ".py",
      "mimetype": "text/x-python",
      "name": "python",
      "nbconvert_exporter": "python",
      "pygments_lexer": "ipython3",
      "version": "3.8.5"
    },
    "colab": {
      "provenance": []
    }
  },
  "nbformat": 4,
  "nbformat_minor": 0
}